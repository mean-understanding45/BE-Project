{
 "cells": [
  {
   "cell_type": "markdown",
   "id": "ff9c69c5-6f57-4852-948b-b5d3d1a963fb",
   "metadata": {},
   "source": [
    "# Random forest"
   ]
  },
  {
   "cell_type": "code",
   "execution_count": 1,
   "id": "2db3dca5-b769-43c2-a9df-461404504a03",
   "metadata": {},
   "outputs": [],
   "source": [
    "import importlib.machinery\n",
    "\n",
    "loader = importlib.machinery.SourceFileLoader(\"data_import\", \"../../utils/data_import.py\")\n",
    "data_import = loader.load_module()\n",
    "\n",
    "loader = importlib.machinery.SourceFileLoader(\"model_evaluator\", \"../../utils/model_evaluator.py\")\n",
    "model_evaluator = loader.load_module()\n",
    "\n",
    "import numpy as np\n",
    "import pandas as pd\n",
    "from sklearn.ensemble import RandomForestClassifier\n",
    "import sklearn.metrics as metrics"
   ]
  },
  {
   "cell_type": "code",
   "execution_count": 2,
   "id": "437583b1-a7d5-4e99-930f-8549cdfacd24",
   "metadata": {},
   "outputs": [],
   "source": [
    "import matplotlib.pyplot as plt"
   ]
  },
  {
   "cell_type": "code",
   "execution_count": 3,
   "id": "6973ee82-cb08-4e0c-a71b-bc020678f53b",
   "metadata": {},
   "outputs": [],
   "source": [
    "# Import data\n",
    "X_tot, df_tot, X_train, X_test, y_train, y_test = data_import.import_data_train_test(\"Contagio\")"
   ]
  },
  {
   "cell_type": "markdown",
   "id": "79afd845-40b7-4101-aaea-8697b4bdbd8a",
   "metadata": {},
   "source": [
    "## Testing *random_state*"
   ]
  },
  {
   "cell_type": "markdown",
   "id": "3ff26617-4130-4db5-9b87-3c1412e8356f",
   "metadata": {},
   "source": [
    "Test to determine the best value for *random_state* parameter"
   ]
  },
  {
   "cell_type": "code",
   "execution_count": 4,
   "id": "70b5be4a-0b29-4659-b6a7-11c720fa95ee",
   "metadata": {},
   "outputs": [
    {
     "name": "stdout",
     "output_type": "stream",
     "text": [
      "acc: 0.9981971506973581\n",
      "fnr: 0.0022522522522522522\n"
     ]
    }
   ],
   "source": [
    "clf = RandomForestClassifier(random_state=0)\n",
    "kfold_scores_npv = model_evaluator.kfold_cross_validation(clf, X_train, y_train, k=5)\n",
    "print(\"acc:\", sum(kfold_scores_npv['test_f1_score'])/5)\n",
    "print(\"fnr:\", sum(kfold_scores_npv['test_false_neg'])/5)"
   ]
  },
  {
   "cell_type": "code",
   "execution_count": 5,
   "id": "46f0cb15-b2b7-4602-ae37-4dd26497ad5c",
   "metadata": {},
   "outputs": [
    {
     "name": "stdout",
     "output_type": "stream",
     "text": [
      "acc: 0.9979717982266578\n",
      "fnr: 0.0024774774774774773\n"
     ]
    }
   ],
   "source": [
    "clf = RandomForestClassifier()\n",
    "kfold_scores_npv = model_evaluator.kfold_cross_validation(clf, X_train, y_train, k=5)\n",
    "print(\"acc:\", sum(kfold_scores_npv['test_f1_score'])/5)\n",
    "print(\"fnr:\", sum(kfold_scores_npv['test_false_neg'])/5)"
   ]
  },
  {
   "cell_type": "markdown",
   "id": "42fcdf68-62df-49be-a07a-b0c7ef968873",
   "metadata": {},
   "source": [
    "With random_state=0 is better"
   ]
  },
  {
   "cell_type": "markdown",
   "id": "5ea04903-f684-4cdc-bb68-217a4b15f6c1",
   "metadata": {},
   "source": [
    "## Testing *n_estimators*"
   ]
  },
  {
   "cell_type": "markdown",
   "id": "d1cb157d-628b-4841-b60d-956291f89113",
   "metadata": {},
   "source": [
    "Test to determine the best value for *n_estimators* parameter"
   ]
  },
  {
   "cell_type": "code",
   "execution_count": 6,
   "id": "70a2e0a5-6370-40ce-9c04-11006b145785",
   "metadata": {},
   "outputs": [
    {
     "name": "stdout",
     "output_type": "stream",
     "text": [
      "Number of trees 50\n",
      "acc: 0.9979717984951837\n",
      "fnr: 0.0024774774774774773\n",
      "-----------------\n",
      "Number of trees 60\n",
      "acc: 0.9980841882312752\n",
      "fnr: 0.0023648648648648646\n",
      "-----------------\n",
      "Number of trees 70\n",
      "acc: 0.9979719574444508\n",
      "fnr: 0.002364864864864865\n",
      "-----------------\n",
      "Number of trees 80\n",
      "acc: 0.9981408599878108\n",
      "fnr: 0.0022522522522522522\n",
      "-----------------\n",
      "Number of trees 90\n",
      "acc: 0.9980279618337675\n",
      "fnr: 0.0024774774774774778\n",
      "-----------------\n",
      "Number of trees 100\n",
      "acc: 0.9978588683596852\n",
      "fnr: 0.002702702702702703\n",
      "-----------------\n",
      "Number of trees 110\n",
      "acc: 0.9981403521520082\n",
      "fnr: 0.0024774774774774778\n",
      "-----------------\n",
      "Number of trees 120\n",
      "acc: 0.9980840934150962\n",
      "fnr: 0.0024774774774774778\n",
      "-----------------\n",
      "Number of trees 130\n",
      "acc: 0.9981405424563622\n",
      "fnr: 0.0023648648648648646\n",
      "-----------------\n",
      "Number of trees 140\n",
      "acc: 0.9982532504222814\n",
      "fnr: 0.0022522522522522522\n",
      "-----------------\n"
     ]
    }
   ],
   "source": [
    "for i in range(50,150,10):\n",
    "    clf = RandomForestClassifier(n_estimators=i)\n",
    "    kfold_scores_npv = model_evaluator.kfold_cross_validation(clf, X_train, y_train, k=5)\n",
    "    print(\"Number of trees \" + str(i))\n",
    "    print(\"acc:\", sum(kfold_scores_npv['test_f1_score'])/5)\n",
    "    print(\"fnr:\", sum(kfold_scores_npv['test_false_neg'])/5)\n",
    "    print(\"-----------------\")"
   ]
  },
  {
   "cell_type": "markdown",
   "id": "ee69ff6c-fb8f-4e6b-a078-892c6026b566",
   "metadata": {},
   "source": [
    "Best is 100"
   ]
  },
  {
   "cell_type": "markdown",
   "id": "9a84840b-9d8a-4d60-b937-b2a2a099e294",
   "metadata": {},
   "source": [
    "## Testing *bootstrap*"
   ]
  },
  {
   "cell_type": "markdown",
   "id": "62dc646a-7cbd-4ccf-abc2-81feca0c59b1",
   "metadata": {},
   "source": [
    "Test to determine the best value for *bootstrap* parameter"
   ]
  },
  {
   "cell_type": "code",
   "execution_count": 7,
   "id": "e6032919-5792-46db-a773-0107990d3a7e",
   "metadata": {},
   "outputs": [
    {
     "name": "stdout",
     "output_type": "stream",
     "text": [
      "acc: 0.997802609130274\n",
      "fnr: 0.002702702702702703\n"
     ]
    }
   ],
   "source": [
    "clf = RandomForestClassifier(bootstrap = False)\n",
    "kfold_scores_npv = model_evaluator.kfold_cross_validation(clf, X_train, y_train, k=5)\n",
    "print(\"acc:\", sum(kfold_scores_npv['test_f1_score'])/5)\n",
    "print(\"fnr:\", sum(kfold_scores_npv['test_false_neg'])/5)"
   ]
  },
  {
   "cell_type": "code",
   "execution_count": 8,
   "id": "8ee5d445-e2c5-44e6-bf22-14d4e36d5dae",
   "metadata": {},
   "outputs": [
    {
     "name": "stdout",
     "output_type": "stream",
     "text": [
      "acc: 0.9980840934150962\n",
      "fnr: 0.0024774774774774778\n"
     ]
    }
   ],
   "source": [
    "clf = RandomForestClassifier()\n",
    "kfold_scores_npv = model_evaluator.kfold_cross_validation(clf, X_train, y_train, k=5)\n",
    "print(\"acc:\", sum(kfold_scores_npv['test_f1_score'])/5)\n",
    "print(\"fnr:\", sum(kfold_scores_npv['test_false_neg'])/5)"
   ]
  },
  {
   "cell_type": "markdown",
   "id": "67e8f552-7a79-4411-8f31-54b5e610a748",
   "metadata": {},
   "source": [
    "bootstrap = True is better"
   ]
  },
  {
   "cell_type": "markdown",
   "id": "ebe4eba4-ae7a-484d-8053-b7614c2ea9e1",
   "metadata": {},
   "source": [
    "## Testing *criterion*"
   ]
  },
  {
   "cell_type": "markdown",
   "id": "709d40a4-e61d-4ca3-84b2-e29e3689cc84",
   "metadata": {},
   "source": [
    "Test to determine the best value for *criterion* parameter"
   ]
  },
  {
   "cell_type": "code",
   "execution_count": 9,
   "id": "b3dbbbd6-ac1c-4e2e-8a2b-5f37dfe10086",
   "metadata": {},
   "outputs": [
    {
     "name": "stdout",
     "output_type": "stream",
     "text": [
      "Criterion: gini\n",
      "acc: 0.9981971506973581\n",
      "fnr: 0.0022522522522522522\n",
      "-----------------\n",
      "Criterion: entropy\n",
      "acc: 0.997858423752924\n",
      "fnr: 0.002815315315315315\n",
      "-----------------\n",
      "Criterion: log_loss\n",
      "acc: 0.997858423752924\n",
      "fnr: 0.002815315315315315\n",
      "-----------------\n"
     ]
    }
   ],
   "source": [
    "for crit in [\"gini\", \"entropy\", \"log_loss\"]:\n",
    "    clf = RandomForestClassifier(random_state=0, criterion=crit)\n",
    "    kfold_scores_npv = model_evaluator.kfold_cross_validation(clf, X_train, y_train, k=5)\n",
    "    print(\"Criterion: \" + crit)\n",
    "    print(\"acc:\", sum(kfold_scores_npv['test_f1_score'])/5)\n",
    "    print(\"fnr:\", sum(kfold_scores_npv['test_false_neg'])/5)\n",
    "    print(\"-----------------\")"
   ]
  },
  {
   "cell_type": "markdown",
   "id": "92105196-b426-4b7e-ba2a-5a952e1600aa",
   "metadata": {},
   "source": [
    "Gini is the best"
   ]
  },
  {
   "cell_type": "markdown",
   "id": "9e388408-1711-4fdc-bdf9-d5393413764e",
   "metadata": {},
   "source": [
    "## Testing *max_depth*"
   ]
  },
  {
   "cell_type": "markdown",
   "id": "2f74ab72-a1a0-4321-a01a-0caf442da9b6",
   "metadata": {},
   "source": [
    "Test to determine the best value for *max_depth* parameter"
   ]
  },
  {
   "cell_type": "code",
   "execution_count": 10,
   "id": "608936d6-4316-4472-9e7d-c47e9600b9c7",
   "metadata": {},
   "outputs": [],
   "source": [
    "fn = []\n",
    "acc = []\n",
    "k=5\n",
    "for m in range(2,20,1):\n",
    "    clf = RandomForestClassifier(random_state=0, max_depth=m)\n",
    "    \n",
    "    kfold_scores_npv = model_evaluator.kfold_cross_validation(clf, X_train, y_train, k=k)\n",
    "    \n",
    "    acc.append(sum(kfold_scores_npv['test_accuracy_score'])/k)\n",
    "    fn.append(sum(kfold_scores_npv['test_false_neg'])/k)"
   ]
  },
  {
   "cell_type": "markdown",
   "id": "62e48f34-876b-4909-9be9-e3b89147d2ad",
   "metadata": {},
   "source": [
    "Printing `accuracy` and `false negative rate` on *trainig set* for different *max_depth*"
   ]
  },
  {
   "cell_type": "code",
   "execution_count": 11,
   "id": "e59bc997-a539-439b-b411-3c8915e70383",
   "metadata": {},
   "outputs": [
    {
     "data": {
      "image/png": "[encoded data removed]",
      "text/plain": [
       "<Figure size 1500x500 with 2 Axes>"
      ]
     },
     "metadata": {},
     "output_type": "display_data"
    }
   ],
   "source": [
    "import seaborn as sns\n",
    "x = np.arange(2, 20, 1)\n",
    "fig, axes = plt.subplots(1, 2, figsize=(15, 5), sharex=True)\n",
    "g_acc_2 = sns.lineplot(ax=axes[0], x=x, y=acc, marker=\"o\", errorbar=None, legend=True, color='green')\n",
    "g_fnr_2 = sns.lineplot(ax=axes[1], x=x, y=fn, marker=\"o\", errorbar=None, legend=True, color='skyblue')\n",
    "axes[0].set_xlabel('max_depth')\n",
    "axes[0].set_ylabel('accuracy')\n",
    "axes[1].set_xlabel('max_depth')\n",
    "axes[1].set_ylabel('fnr')\n",
    "\n",
    "axes[1].set_xticks(x)\n",
    "axes[1].set_xticks(x)\n",
    "\n",
    "plt.show()"
   ]
  },
  {
   "cell_type": "markdown",
   "id": "dd770965-cff5-4dcf-9b73-63abab7168d1",
   "metadata": {},
   "source": [
    "Best max_depth 16"
   ]
  },
  {
   "cell_type": "code",
   "execution_count": 12,
   "id": "7c6af473-1ca0-44cc-8e33-fd81dc80ed69",
   "metadata": {},
   "outputs": [
    {
     "name": "stdout",
     "output_type": "stream",
     "text": [
      "Depth  2\n",
      "Accuracy:  0.9903505152588268\n",
      "False neg:  0.01587837837837838\n",
      "Depth  3\n",
      "Accuracy:  0.9947421850386811\n",
      "False neg:  0.008333333333333333\n",
      "Depth  4\n",
      "Accuracy:  0.9962267402813556\n",
      "False neg:  0.00563063063063063\n",
      "Depth  5\n",
      "Accuracy:  0.9965360313908764\n",
      "False neg:  0.005067567567567567\n",
      "Depth  6\n",
      "Accuracy:  0.9967216366624259\n",
      "False neg:  0.004617117117117117\n",
      "Depth  7\n",
      "Accuracy:  0.9974638855907912\n",
      "False neg:  0.0033783783783783786\n",
      "Depth  8\n",
      "Accuracy:  0.9973401997528196\n",
      "False neg:  0.0033783783783783786\n",
      "Depth  9\n",
      "Accuracy:  0.9976494908623404\n",
      "False neg:  0.0030405405405405407\n",
      "Depth  10\n",
      "Accuracy:  0.9977113337813263\n",
      "False neg:  0.002927927927927928\n",
      "Depth  11\n",
      "Accuracy:  0.9977113529099743\n",
      "False neg:  0.002702702702702703\n",
      "Depth  12\n",
      "Accuracy:  0.9978350770052418\n",
      "False neg:  0.002702702702702703\n",
      "Depth  13\n",
      "Accuracy:  0.9979587628432134\n",
      "False neg:  0.002364864864864865\n",
      "Depth  14\n",
      "Accuracy:  0.9980206440194952\n",
      "False neg:  0.002364864864864865\n",
      "Depth  15\n",
      "Accuracy:  0.9979587819718614\n",
      "False neg:  0.002364864864864865\n",
      "Depth  16\n",
      "Accuracy:  0.9980206248908472\n",
      "False neg:  0.0022522522522522522\n",
      "Depth  17\n",
      "Accuracy:  0.9980206248908472\n",
      "False neg:  0.0022522522522522522\n",
      "Depth  18\n",
      "Accuracy:  0.9980206248908472\n",
      "False neg:  0.0022522522522522522\n",
      "Depth  19\n",
      "Accuracy:  0.9980206248908472\n",
      "False neg:  0.0022522522522522522\n"
     ]
    }
   ],
   "source": [
    "for i in range(0, 18):\n",
    "    print(\"Depth \",i+2)\n",
    "    print(\"Accuracy: \",acc[i])\n",
    "    print(\"False neg: \",fn[i])"
   ]
  },
  {
   "cell_type": "markdown",
   "id": "80e82596-e82f-4250-a9e0-43001d4702ab",
   "metadata": {},
   "source": [
    "- 16 is the first best value of false rate\n",
    "- 16  is the first best value of accuracy"
   ]
  },
  {
   "cell_type": "markdown",
   "id": "096d664d-f4d8-41d6-9476-66aa7bd12597",
   "metadata": {},
   "source": [
    "## Final Testing"
   ]
  },
  {
   "cell_type": "markdown",
   "id": "4430e3b8-f42c-4a18-840f-3abd85e27a00",
   "metadata": {},
   "source": [
    "Testing the final model with proper parameters on *testing set*"
   ]
  },
  {
   "cell_type": "code",
   "execution_count": 13,
   "id": "817ef34e-cf0f-47cc-846e-835dbf2c2066",
   "metadata": {},
   "outputs": [
    {
     "name": "stdout",
     "output_type": "stream",
     "text": [
      "Train score\n",
      "fnr:  0.0022522522522522522\n",
      "acc:  0.9980206248908472\n",
      "\n",
      "Test score\n",
      "fnr:  0.0013513513513513514\n",
      "acc:  0.9990103908955963\n"
     ]
    }
   ],
   "source": [
    "clf = RandomForestClassifier(random_state=0, max_depth=16)\n",
    "kfold_scores_npv = model_evaluator.kfold_cross_validation(clf, X_train, y_train, k=5)\n",
    "\n",
    "print(\"Train score\")\n",
    "print(\"fnr: \",sum(kfold_scores_npv['test_false_neg'])/5)\n",
    "print(\"acc: \",sum(kfold_scores_npv['test_accuracy_score'])/5)\n",
    "\n",
    "clf.fit(X_train, y_train)\n",
    "y_pred = clf.predict(X_test)\n",
    "kfold_scores_npv = model_evaluator.metrics_function(y_test, y_pred)\n",
    "print(\"\\nTest score\")\n",
    "print(\"fnr: \",kfold_scores_npv['false_neg'])\n",
    "print(\"acc: \",kfold_scores_npv['accuracy_score'])"
   ]
  },
  {
   "cell_type": "code",
   "execution_count": null,
   "id": "3950041c-b25b-4a98-8b49-b2ada46b274f",
   "metadata": {},
   "outputs": [],
   "source": []
  }
 ],
 "metadata": {
  "interpreter": {
   "hash": "6d54b13188e3470dc4463817d6944bcd4339b4c044e6d47cf54cb726ccb9fe87"
  },
  "kernelspec": {
   "display_name": "Python 3.10.6 ('be_proj': venv)",
   "language": "python",
   "name": "python3"
  },
  "language_info": {
   "codemirror_mode": {
    "name": "ipython",
    "version": 3
   },
   "file_extension": ".py",
   "mimetype": "text/x-python",
   "name": "python",
   "nbconvert_exporter": "python",
   "pygments_lexer": "ipython3",
   "version": "3.10.6"
  }
 },
 "nbformat": 4,
 "nbformat_minor": 5
}
